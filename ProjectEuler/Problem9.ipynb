{
 "metadata": {
  "name": "Problem9"
 },
 "nbformat": 3,
 "nbformat_minor": 0,
 "worksheets": [
  {
   "cells": [
    {
     "cell_type": "markdown",
     "metadata": {},
     "source": [
      "Special Pythagorean Triplet\n",
      "=\n",
      "Problem 9\n",
      "-\n",
      "A Pythagorean triplet is a set of three natural numbers, a  b  c, for which,\n",
      "\n",
      "$a^2$ + $b^2$ = $c^2$\n",
      "For example, $3^2$ + $4^2$ = 9 + 16 = 25 = $5^2$.\n",
      "\n",
      "There exists exactly one Pythagorean triplet for which a + b + c = 1000.\n",
      "Find the product abc."
     ]
    },
    {
     "cell_type": "code",
     "collapsed": false,
     "input": [
      "\n",
      "sumright=False\n",
      "pythtrip=False\n",
      "for a in range(1,1000):\n",
      "    for b in range(1,1000):\n",
      "        c = (a**2+b**2)**.5\n",
      "        if int(c)==float(c):\n",
      "            if a+b+c==12:\n",
      "                 break\n",
      "    if int(c)==float(c):\n",
      "        if a+b+c==12:\n",
      "            break\n",
      "print a*b*c\n",
      "print 3*4*5"
     ],
     "language": "python",
     "metadata": {},
     "outputs": [
      {
       "output_type": "stream",
       "stream": "stdout",
       "text": [
        "60.0\n",
        "60\n"
       ]
      }
     ],
     "prompt_number": 10
    },
    {
     "cell_type": "code",
     "collapsed": false,
     "input": [
      "sumright=False\n",
      "pythtrip=False\n",
      "for a in range(1,1000):\n",
      "    for b in range(1,1000):\n",
      "        c = (a**2+b**2)**.5\n",
      "        if int(c)==float(c):\n",
      "            if a+b+c==1000:\n",
      "                 break\n",
      "    if int(c)==float(c):\n",
      "        if a+b+c==1000:\n",
      "            break\n",
      "print a*b*c\n"
     ],
     "language": "python",
     "metadata": {},
     "outputs": [
      {
       "output_type": "stream",
       "stream": "stdout",
       "text": [
        "31875000.0\n"
       ]
      }
     ],
     "prompt_number": 11
    },
    {
     "cell_type": "code",
     "collapsed": false,
     "input": [],
     "language": "python",
     "metadata": {},
     "outputs": []
    }
   ],
   "metadata": {}
  }
 ]
}
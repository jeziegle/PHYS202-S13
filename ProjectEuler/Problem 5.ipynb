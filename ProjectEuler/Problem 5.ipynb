{
 "metadata": {
  "name": "Problem 5"
 },
 "nbformat": 3,
 "nbformat_minor": 0,
 "worksheets": [
  {
   "cells": [
    {
     "cell_type": "markdown",
     "metadata": {},
     "source": [
      "Smallest Multiple\n",
      "=\n",
      "Problem 5\n",
      "-\n",
      "2520 is the smallest number that can be divided by each of the numbers from 1 to 10 without any remainder.\n",
      "\n",
      "What is the smallest positive number that is evenly divisible by all of the numbers from 1 to 20?"
     ]
    },
    {
     "cell_type": "code",
     "collapsed": false,
     "input": [
      "N = 10\n",
      "i = 0\n",
      "even = False\n",
      "while not even:\n",
      "    i+=10\n",
      "    even = True\n",
      "    for j in range(1,N+1):\n",
      "        if i%j!=0:\n",
      "            even = False\n",
      "            break\n",
      "print i"
     ],
     "language": "python",
     "metadata": {},
     "outputs": [
      {
       "output_type": "stream",
       "stream": "stdout",
       "text": [
        "2520\n"
       ]
      }
     ],
     "prompt_number": 5
    },
    {
     "cell_type": "code",
     "collapsed": false,
     "input": [
      "N = 20\n",
      "i = 0\n",
      "even = False\n",
      "while not even:\n",
      "    i+=20\n",
      "    even = True\n",
      "    for j in range(1,N+1):\n",
      "        if i%j!=0:\n",
      "            even = False\n",
      "            break\n",
      "print i"
     ],
     "language": "python",
     "metadata": {},
     "outputs": [
      {
       "output_type": "stream",
       "stream": "stdout",
       "text": [
        "232792560\n"
       ]
      }
     ],
     "prompt_number": 6
    },
    {
     "cell_type": "code",
     "collapsed": false,
     "input": [],
     "language": "python",
     "metadata": {},
     "outputs": []
    }
   ],
   "metadata": {}
  }
 ]
}
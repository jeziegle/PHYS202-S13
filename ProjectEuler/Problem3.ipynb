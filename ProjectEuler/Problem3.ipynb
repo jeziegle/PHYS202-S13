{
 "metadata": {
  "name": "Problem3"
 },
 "nbformat": 3,
 "nbformat_minor": 0,
 "worksheets": [
  {
   "cells": [
    {
     "cell_type": "markdown",
     "metadata": {},
     "source": [
      "Largest Prime Factor\n",
      "=\n",
      "Problem 3\n",
      "-\n",
      "The prime factors of 13195 are 5, 7, 13 and 29.\n",
      "\n",
      "What is the largest prime factor of the number 600851475143 ?"
     ]
    },
    {
     "cell_type": "code",
     "collapsed": false,
     "input": [
      "num  = 13195.\n",
      "\n",
      "def fermatFactor(N):\n",
      "    while N%2==0:\n",
      "        N/=2\n",
      "    \n",
      "    if(float(N**.5)==int(N**.5)):\n",
      "        return N**.5\n",
      "    \n",
      "    a = int(N**.5+1)\n",
      "    b2 = a**2-N\n",
      "    while (float (b2**.5))!=(int (b2**.5)) and a<N:\n",
      "        a += 1\n",
      "        b2 = float(a**2-N)\n",
      "    \n",
      "    if a!=N:\n",
      "        b = int(b2**.5)\n",
      "        factor1 = a+b\n",
      "        factor2 = a-b\n",
      "    else:\n",
      "        factor1 = N\n",
      "        factor2 = 1\n",
      "    \n",
      "    if(factor1!=N):\n",
      "        factor1 = fermatFactor(factor1)\n",
      "        factor2 = fermatFactor(factor2)\n",
      "        \n",
      "    return max(append(factor1,factor2))"
     ],
     "language": "python",
     "metadata": {},
     "outputs": [],
     "prompt_number": 28
    },
    {
     "cell_type": "code",
     "collapsed": false,
     "input": [
      "print fermatFactor(13195)"
     ],
     "language": "python",
     "metadata": {},
     "outputs": [
      {
       "output_type": "stream",
       "stream": "stdout",
       "text": [
        "29\n"
       ]
      }
     ],
     "prompt_number": 33
    },
    {
     "cell_type": "code",
     "collapsed": false,
     "input": [
      "print fermatFactor(600851475143)"
     ],
     "language": "python",
     "metadata": {},
     "outputs": [
      {
       "output_type": "stream",
       "stream": "stdout",
       "text": [
        "6857\n"
       ]
      }
     ],
     "prompt_number": 34
    },
    {
     "cell_type": "code",
     "collapsed": false,
     "input": [],
     "language": "python",
     "metadata": {},
     "outputs": []
    }
   ],
   "metadata": {}
  }
 ]
}
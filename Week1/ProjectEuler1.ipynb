{
 "metadata": {
  "name": "ProjectEuler1"
 },
 "nbformat": 3,
 "nbformat_minor": 0,
 "worksheets": [
  {
   "cells": [
    {
     "cell_type": "code",
     "collapsed": false,
     "input": [
      "num=3\n",
      "Sum=0\n",
      "\n",
      "while(num<1000):\n",
      "    if(num%3==0 or num%5==0):\n",
      "        Sum=Sum+num\n",
      "    num=num+1\n",
      "    \n",
      "print Sum"
     ],
     "language": "python",
     "metadata": {},
     "outputs": [
      {
       "output_type": "stream",
       "stream": "stdout",
       "text": [
        "233168\n"
       ]
      }
     ],
     "prompt_number": 9
    },
    {
     "cell_type": "code",
     "collapsed": false,
     "input": [],
     "language": "python",
     "metadata": {},
     "outputs": []
    }
   ],
   "metadata": {}
  }
 ]
}
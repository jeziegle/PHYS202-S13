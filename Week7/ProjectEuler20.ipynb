{
 "metadata": {
  "name": "ProjectEuler20"
 },
 "nbformat": 3,
 "nbformat_minor": 0,
 "worksheets": [
  {
   "cells": [
    {
     "cell_type": "markdown",
     "metadata": {},
     "source": [
      "Factorial Digit Sum\n",
      "=\n",
      "Problem 20\n",
      "-\n",
      "n! means n * (n -1)  ...  3 * 2 * 1\n",
      "\n",
      "For example, 10! = 10 * 9  ...  3 * 2 * 1 = 3628800,\n",
      "and the sum of the digits in the number 10! is 3 + 6 + 2 + 8 + 8 + 0 + 0 = 27.\n",
      "\n",
      "Find the sum of the digits in the number 100!"
     ]
    },
    {
     "cell_type": "code",
     "collapsed": false,
     "input": [
      "def factorial(n):\n",
      "    fact = 1;\n",
      "    for i in range(1,n+1):\n",
      "        fact*=i\n",
      "    return fact"
     ],
     "language": "python",
     "metadata": {},
     "outputs": [],
     "prompt_number": 1
    },
    {
     "cell_type": "code",
     "collapsed": false,
     "input": [
      "strfact = str(factorial(10))\n",
      "factsum=0\n",
      "for i in strfact:\n",
      "    factsum+=(int(i))\n",
      "    \n",
      "print factsum"
     ],
     "language": "python",
     "metadata": {},
     "outputs": [
      {
       "output_type": "stream",
       "stream": "stdout",
       "text": [
        "27\n"
       ]
      }
     ],
     "prompt_number": 5
    },
    {
     "cell_type": "code",
     "collapsed": false,
     "input": [
      "strfact = str(factorial(100))\n",
      "factsum=0\n",
      "for i in strfact:\n",
      "    factsum+=(int(i))\n",
      "    \n",
      "print factsum"
     ],
     "language": "python",
     "metadata": {},
     "outputs": [
      {
       "output_type": "stream",
       "stream": "stdout",
       "text": [
        "648\n"
       ]
      }
     ],
     "prompt_number": 6
    },
    {
     "cell_type": "code",
     "collapsed": false,
     "input": [],
     "language": "python",
     "metadata": {},
     "outputs": []
    }
   ],
   "metadata": {}
  }
 ]
}
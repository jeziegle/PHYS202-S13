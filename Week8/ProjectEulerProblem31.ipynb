{
 "metadata": {
  "name": "ProjectEulerProblem31"
 },
 "nbformat": 3,
 "nbformat_minor": 0,
 "worksheets": [
  {
   "cells": [
    {
     "cell_type": "markdown",
     "metadata": {},
     "source": [
      "Coin Sums\n",
      "=\n",
      "Problem 31\n",
      "-\n",
      "In England the currency is made up of pound, \u00a3, and pence, p, and there are eight coins in general circulation:\n",
      "\n",
      "1p, 2p, 5p, 10p, 20p, 50p, \u00a31 (100p) and \u00a32 (200p).\n",
      "It is possible to make \u00a32 in the following way:\n",
      "\n",
      "1x\u00a31 + 1x50p + 2x20p + 1x5p + 1x2p + 3x1p\n",
      "How many different ways can \u00a32 be made using any number of coins?"
     ]
    },
    {
     "cell_type": "code",
     "collapsed": false,
     "input": [
      "ways=0\n",
      "coin = array([200,100,50,20,10,5,2,1])\n",
      "num = zeros(coin.shape,int)+200\n",
      "\n",
      "while num[0]>=0:\n",
      "    num[1]=num[0]\n",
      "    num[0]-=coin[0]\n",
      "    while num[1]>=0:\n",
      "        num[2]=num[1]\n",
      "        num[1]-=coin[1]\n",
      "        while num[2]>=0:\n",
      "            num[3]=num[2]\n",
      "            num[2]-=coin[2]\n",
      "            while num[3]>=0:\n",
      "                num[4]=num[3]\n",
      "                num[3]-=coin[3]\n",
      "                while num[4]>=0:\n",
      "                    num[5]=num[4]\n",
      "                    num[4]-=coin[4]\n",
      "                    while num[5]>=0:\n",
      "                        num[6]=num[5]\n",
      "                        num[5]-=coin[5]                       \n",
      "                        while num[6]>=0:\n",
      "                            num[7]=num[6]\n",
      "                            num[6]-=coin[6]\n",
      "                            ways+=1\n",
      "\n",
      "print ways"
     ],
     "language": "python",
     "metadata": {},
     "outputs": [
      {
       "output_type": "stream",
       "stream": "stdout",
       "text": [
        "73682\n"
       ]
      }
     ],
     "prompt_number": 31
    },
    {
     "cell_type": "code",
     "collapsed": false,
     "input": [],
     "language": "python",
     "metadata": {},
     "outputs": [],
     "prompt_number": 14
    },
    {
     "cell_type": "code",
     "collapsed": false,
     "input": [],
     "language": "python",
     "metadata": {},
     "outputs": []
    }
   ],
   "metadata": {}
  }
 ]
}
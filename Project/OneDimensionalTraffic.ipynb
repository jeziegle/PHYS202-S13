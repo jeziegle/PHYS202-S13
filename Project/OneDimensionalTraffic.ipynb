{
 "metadata": {
  "name": "OneDimensionalTraffic"
 },
 "nbformat": 3,
 "nbformat_minor": 0,
 "worksheets": [
  {
   "cells": [
    {
     "cell_type": "code",
     "collapsed": false,
     "input": [
      "import numpy.random\n",
      "L = 20\n",
      "N = 5\n",
      "v = L\n",
      "road = zeros(L,bool)\n",
      "\n",
      "while(sum(road)!=N):\n",
      "    i = randint(0,L)\n",
      "    if not road[i]:\n",
      "        road[i]=True\n",
      "print road      \n",
      "def getG(road,v):\n",
      "    g = L\n",
      "    for i in range(len(road)):\n",
      "        if road[i]:\n",
      "            for j in range(len(road)):\n",
      "                if j>i and road[j] and g>j-i-1:\n",
      "                    g = j-i-1\n",
      "type(v)\n",
      "\"\"\"\n",
      "def doStep(road,v):\n",
      "    g = getG(road,v)\n",
      "    if v>g:\n",
      "        v = g\n",
      "    for i in range(len(road)):\n",
      "        if road[i]:\n",
      "            road[i]=False\n",
      "            newi = i+v\n",
      "            road[newi]=True\n",
      "\n",
      "doStep(road,v)\n",
      "print road\n",
      "\"\"\""
     ],
     "language": "python",
     "metadata": {},
     "outputs": [
      {
       "output_type": "stream",
       "stream": "stdout",
       "text": [
        "[False False False False False False False  True False  True  True  True\n",
        " False False False False False False  True False]\n"
       ]
      },
      {
       "output_type": "pyout",
       "prompt_number": 25,
       "text": [
        "'\\ndef doStep(road,v):\\n    g = getG(road,v)\\n    if v>g:\\n        v = g\\n    for i in range(len(road)):\\n        if road[i]:\\n            road[i]=False\\n            newi = i+v\\n            road[newi]=True\\n\\ndoStep(road,v)\\nprint road\\n'"
       ]
      }
     ],
     "prompt_number": 25
    },
    {
     "cell_type": "code",
     "collapsed": false,
     "input": [],
     "language": "python",
     "metadata": {},
     "outputs": []
    }
   ],
   "metadata": {}
  }
 ]
}
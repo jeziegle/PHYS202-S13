{
 "metadata": {
  "name": "OneDimensionalTraffic"
 },
 "nbformat": 3,
 "nbformat_minor": 0,
 "worksheets": [
  {
   "cells": [
    {
     "cell_type": "code",
     "collapsed": false,
     "input": [
      "import numpy.random\n",
      "\n",
      "def roadInit(L,cars):\n",
      "    road = zeros(L,int)\n",
      "    veloc = zeros(cars,int)\n",
      "    car = 1\n",
      "    while(car<=cars):\n",
      "        i = randint(0,L)\n",
      "        if road[i]==0:\n",
      "            road[i]=car\n",
      "            veloc[car-1]=randint(0,L-cars)\n",
      "            car+=1\n",
      "    return road,veloc\n",
      "\n",
      "\n",
      "\n",
      "def getG(road,v):\n",
      "    L = len(road)\n",
      "    g = zeros(v.shape,int)+L\n",
      "    for loc1 in range(L):\n",
      "        end=True\n",
      "        if road[loc1]!=0:\n",
      "            loc2=loc1+1\n",
      "            while loc2<(L-1):\n",
      "                if road[loc2]!=0:\n",
      "                    g[road[loc1]-1] = loc2-loc1-1\n",
      "                    end=False\n",
      "                    break\n",
      "                loc2+=1\n",
      "        if end:\n",
      "            for loc2 in range(L):\n",
      "                if road[loc2]!=0:\n",
      "                    g[road[loc1]-1]=L-loc1+loc2-2\n",
      "                    break\n",
      "    return g\n",
      "\n",
      "def doStep(road,v,g):\n",
      "    newroad=zeros(road.shape,int)\n",
      "    for car in range(len(v)):\n",
      "        if v[car]>g[car]:\n",
      "            v[car] = g[car]\n",
      "        elif v[car]<len(road):\n",
      "            v[car]+=1\n",
      "    for loc in range(len(road)):\n",
      "        if road[loc]!=0:\n",
      "            newi = loc+v[road[loc]-1]\n",
      "            if newi>len(road)-1:\n",
      "                newi = v[road[loc]-1]-(len(road)-loc-1)\n",
      "            newroad[newi]=road[loc]\n",
      "            road[loc]=0\n",
      "            \n",
      "    return newroad,v\n",
      "            \n",
      "            \n",
      "\n",
      "\n"
     ],
     "language": "python",
     "metadata": {},
     "outputs": [],
     "prompt_number": 40
    },
    {
     "cell_type": "code",
     "collapsed": false,
     "input": [
      "road,velocity = roadInit(40,5)\n",
      "g = getG(road,velocity)\n",
      "print road\n",
      "print velocity\n",
      "print g\n",
      "road,velocity = doStep(road,velocity,g)\n",
      "print road\n",
      "print velocity\n",
      "g = getG(road,velocity)\n",
      "print g\n",
      "road,velocity = doStep(road,velocity,g)\n",
      "print road\n",
      "print velocity\n",
      "g = getG(road,velocity)\n",
      "print g"
     ],
     "language": "python",
     "metadata": {},
     "outputs": [
      {
       "output_type": "stream",
       "stream": "stdout",
       "text": [
        "[0 0 4 0 1 0 0 0 0 0 0 0 2 3 0 0 0 0 0 0 0 0 0 0 0 0 0 0 0 0 0 0 0 0 5 0 0\n",
        " 0 0 0]\n",
        "[ 4 20 32 18 15]\n",
        "[ 7  0 20  1  1]\n",
        "[0 0 0 4 0 0 0 0 0 1 0 0 2 0 0 0 0 0 0 0 0 0 0 0 0 0 0 0 0 0 0 0 0 3 0 5 0\n",
        " 0 0 0]\n",
        "[ 5  0 20  1  1]\n",
        "[ 2 20  1  5  2]\n",
        "[0 0 0 0 0 4 0 0 0 0 0 1 0 2 0 0 0 0 0 0 0 0 0 0 0 0 0 0 0 0 0 0 0 0 3 0 0\n",
        " 5 0 0]\n",
        "[2 1 1 2 2]\n",
        "[ 1 20  2  5  4]\n"
       ]
      }
     ],
     "prompt_number": 42
    },
    {
     "cell_type": "code",
     "collapsed": false,
     "input": [],
     "language": "python",
     "metadata": {},
     "outputs": []
    }
   ],
   "metadata": {}
  }
 ]
}
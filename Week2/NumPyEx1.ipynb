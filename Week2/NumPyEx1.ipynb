{
 "metadata": {
  "name": "NumPyEx1"
 },
 "nbformat": 3,
 "nbformat_minor": 0,
 "worksheets": [
  {
   "cells": [
    {
     "cell_type": "markdown",
     "metadata": {},
     "source": [
      "Q1\n",
      "-"
     ]
    },
    {
     "cell_type": "code",
     "collapsed": false,
     "input": [
      "a = np.ones((4,4))\n",
      "a[3,1]=6\n",
      "a[2,3]=2\n",
      "print a"
     ],
     "language": "python",
     "metadata": {},
     "outputs": [
      {
       "output_type": "stream",
       "stream": "stdout",
       "text": [
        "[[ 1.  1.  1.  1.]\n",
        " [ 1.  1.  1.  1.]\n",
        " [ 1.  1.  1.  2.]\n",
        " [ 1.  6.  1.  1.]]\n"
       ]
      }
     ],
     "prompt_number": 4
    },
    {
     "cell_type": "markdown",
     "metadata": {},
     "source": [
      "Q2\n",
      "-"
     ]
    },
    {
     "cell_type": "code",
     "collapsed": false,
     "input": [
      "a = np.array([[4,3],[2,1]])\n",
      "b = np.tile( a,(2,3))\n",
      "print b"
     ],
     "language": "python",
     "metadata": {},
     "outputs": [
      {
       "output_type": "stream",
       "stream": "stdout",
       "text": [
        "[[4 3 4 3 4 3]\n",
        " [2 1 2 1 2 1]\n",
        " [4 3 4 3 4 3]\n",
        " [2 1 2 1 2 1]]\n"
       ]
      }
     ],
     "prompt_number": 12
    },
    {
     "cell_type": "markdown",
     "metadata": {},
     "source": [
      "Q3\n",
      "-\n",
      "The code below makes elements in is_prime false such that they are multiples of another number. The slice notation makes every element that's a multiple of j false, because the slice notation makes the step size j. N_max has to be the square root of the max because the for slice notation sets is_prime false for multiples of j up to j^2"
     ]
    },
    {
     "cell_type": "code",
     "collapsed": false,
     "input": [
      "is_prime = np.ones((100,),dtype=bool)\n",
      "is_prime[0]=False\n",
      "is_prime[1]=False\n",
      "N_max = int(np.sqrt(len(is_prime)))\n",
      "for j in range(2,N_max):\n",
      "    is_prime[2*j::j]=False"
     ],
     "language": "python",
     "metadata": {},
     "outputs": [],
     "prompt_number": 17
    },
    {
     "cell_type": "code",
     "collapsed": false,
     "input": [
      "def eratosthenes_sieve(maximum):\n",
      "    prime_is = np.ones((maximum,),dtype = bool)\n",
      "    prime_is[0]=False\n",
      "    prime_is[1]=False\n",
      "    Max= int(np.sqrt(len(prime_is)))\n",
      "    for j in range(2,Max):\n",
      "        prime_is[j*2::j]=False\n",
      "    print prime_is"
     ],
     "language": "python",
     "metadata": {},
     "outputs": [],
     "prompt_number": 19
    },
    {
     "cell_type": "code",
     "collapsed": false,
     "input": [
      "eratosthenes_sieve(10)"
     ],
     "language": "python",
     "metadata": {},
     "outputs": [
      {
       "output_type": "stream",
       "stream": "stdout",
       "text": [
        "[False False  True  True False  True False  True False  True]\n"
       ]
      }
     ],
     "prompt_number": 20
    },
    {
     "cell_type": "code",
     "collapsed": false,
     "input": [
      "eratosthenes_sieve(100)"
     ],
     "language": "python",
     "metadata": {},
     "outputs": [
      {
       "output_type": "stream",
       "stream": "stdout",
       "text": [
        "[False False  True  True False  True False  True False False False  True\n",
        " False  True False False False  True False  True False False False  True\n",
        " False False False False False  True False  True False False False False\n",
        " False  True False False False  True False  True False False False  True\n",
        " False False False False False  True False False False False False  True\n",
        " False  True False False False False False  True False False False  True\n",
        " False  True False False False False False  True False False False  True\n",
        " False False False False False  True False False False False False False\n",
        " False  True False False]\n"
       ]
      }
     ],
     "prompt_number": 21
    },
    {
     "cell_type": "code",
     "collapsed": false,
     "input": [],
     "language": "python",
     "metadata": {},
     "outputs": []
    }
   ],
   "metadata": {}
  }
 ]
}
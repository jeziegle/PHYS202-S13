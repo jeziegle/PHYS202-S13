{
 "metadata": {
  "name": "ProjectEuler19"
 },
 "nbformat": 3,
 "nbformat_minor": 0,
 "worksheets": [
  {
   "cells": [
    {
     "cell_type": "markdown",
     "metadata": {},
     "source": [
      "Counting Sundays\n",
      "=\n",
      "Problem 19\n",
      "-\n",
      "You are given the following information, but you may prefer to do some research for yourself.\n",
      "\n",
      "1 Jan 1900 was a Monday.\n",
      "\n",
      "Thirty days has September,\n",
      "\n",
      "April, June and November.\n",
      "\n",
      "All the rest have thirty-one,\n",
      "\n",
      "Saving February alone,\n",
      "\n",
      "Which has twenty-eight, rain or shine.\n",
      "\n",
      "And on leap years, twenty-nine.\n",
      "\n",
      "A leap year occurs on any year evenly divisible by 4, but not on a century unless it is divisible by 400.\n",
      "How many Sundays fell on the first of the month during the twentieth century (1 Jan 1901 to 31 Dec 2000)?"
     ]
    },
    {
     "cell_type": "code",
     "collapsed": false,
     "input": [
      "dayWeek = 2\n",
      "Sundays = 0\n",
      "for year in range(1900,1901):\n",
      "    #This logic is logical\n",
      "    if (year%4==0 and  not year%100==0) or year%400==0:\n",
      "        daysFeb = 29\n",
      "    else:\n",
      "        daysFeb = 28\n",
      "    for month in range(12):\n",
      "        #if elif and else find number of days in month\n",
      "        if month == 3 or month == 5 or month == 8 or month == 10:\n",
      "            dayWeek+= 30%7\n",
      "        elif month == 1:\n",
      "            dayWeek+= daysFeb%7\n",
      "        else:\n",
      "            dayWeek+= 31%7\n",
      "        #keeps dayWeek at 0-6\n",
      "        if dayWeek > 6:\n",
      "            dayWeek-=7\n",
      "        #if dayWeek is 0 (Sunday), then add to count\n",
      "        if dayWeek == 0:\n",
      "            Sundays+=1\n",
      "print Sundays\n",
      "#By counting, there are two Sundays that fall on the first of months in 1900"
     ],
     "language": "python",
     "metadata": {},
     "outputs": [
      {
       "output_type": "stream",
       "stream": "stdout",
       "text": [
        "2\n"
       ]
      }
     ],
     "prompt_number": 1
    },
    {
     "cell_type": "code",
     "collapsed": false,
     "input": [
      "dayWeek = 2\n",
      "Sundays = 0\n",
      "for year in range(1901,2001):\n",
      "    #This logic is logical\n",
      "    if (year%4==0 and  not year%100==0) or year%400==0:\n",
      "        daysFeb = 29\n",
      "    else:\n",
      "        daysFeb = 28\n",
      "    for month in range(12):\n",
      "        if month == 3 or month == 5 or month == 8 or month == 10:\n",
      "            dayWeek+= 30%7\n",
      "        elif month == 1:\n",
      "            dayWeek+= daysFeb%7\n",
      "        else:\n",
      "            dayWeek+= 31%7\n",
      "        if dayWeek > 6:\n",
      "            dayWeek-=7\n",
      "        if dayWeek == 0:\n",
      "            Sundays+=1\n",
      "print Sundays"
     ],
     "language": "python",
     "metadata": {},
     "outputs": [
      {
       "output_type": "stream",
       "stream": "stdout",
       "text": [
        "171\n"
       ]
      }
     ],
     "prompt_number": 3
    },
    {
     "cell_type": "code",
     "collapsed": false,
     "input": [],
     "language": "python",
     "metadata": {},
     "outputs": []
    }
   ],
   "metadata": {}
  }
 ]
}
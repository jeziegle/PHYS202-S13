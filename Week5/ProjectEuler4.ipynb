{
 "metadata": {
  "name": "ProjectEuler4"
 },
 "nbformat": 3,
 "nbformat_minor": 0,
 "worksheets": [
  {
   "cells": [
    {
     "cell_type": "markdown",
     "metadata": {},
     "source": [
      "Largest Palindrome Product\n",
      "=\n",
      "Problem 4\n",
      "-\n",
      "A palindromic number reads the same both ways. The largest palindrome made from the product of two 2-digit numbers is 9009 = 91 99.\n",
      "\n",
      "Find the largest palindrome made from the product of two 3-digit numbers."
     ]
    },
    {
     "cell_type": "code",
     "collapsed": false,
     "input": [
      "longpalin = 0\n",
      "for j in range(10, 100):\n",
      "    for i in range(10, 100):\n",
      "        prod = j * i\n",
      "        length = len(str(prod))\n",
      "        #checks for palindromity\n",
      "        if(length%2==0 and str(prod)[:length/2]==(str(prod)[length:length/2-1:-1])) or (length%2==1 and str(prod)[:length/2:1]==str(prod)[length:length/2:-1]):\n",
      "            if prod > longpalin:\n",
      "                longpalin = prod\n",
      "                \n",
      "print longpalin"
     ],
     "language": "python",
     "metadata": {},
     "outputs": [
      {
       "output_type": "stream",
       "stream": "stdout",
       "text": [
        "9009\n"
       ]
      }
     ],
     "prompt_number": 38
    },
    {
     "cell_type": "code",
     "collapsed": false,
     "input": [
      "longpalin = 0\n",
      "for j in range(100, 1000):\n",
      "    for i in range(100, 1000):\n",
      "        prod = j * i\n",
      "        length = len(str(prod))\n",
      "        #checks for palindromity\n",
      "        if(length%2==0 and str(prod)[:length/2]==(str(prod)[length:length/2-1:-1])) or (length%2==1 and str(prod)[:length/2:1]==str(prod)[length:length/2:-1]):\n",
      "            if prod > longpalin:\n",
      "                longpalin = prod\n",
      "                \n",
      "print longpalin"
     ],
     "language": "python",
     "metadata": {},
     "outputs": [
      {
       "output_type": "stream",
       "stream": "stdout",
       "text": [
        "906609\n"
       ]
      }
     ],
     "prompt_number": 40
    },
    {
     "cell_type": "code",
     "collapsed": false,
     "input": [],
     "language": "python",
     "metadata": {},
     "outputs": []
    }
   ],
   "metadata": {}
  }
 ]
}
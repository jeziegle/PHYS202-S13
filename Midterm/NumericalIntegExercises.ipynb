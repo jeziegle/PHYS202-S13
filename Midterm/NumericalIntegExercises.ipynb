{
 "metadata": {
  "name": "NumericalIntegExercises"
 },
 "nbformat": 3,
 "nbformat_minor": 0,
 "worksheets": [
  {
   "cells": [
    {
     "cell_type": "markdown",
     "metadata": {},
     "source": [
      "Exercise 1, Trap. rule:\n",
      "-"
     ]
    },
    {
     "cell_type": "code",
     "collapsed": false,
     "input": [
      "f = lambda x: x**4 - 2 * x + 1"
     ],
     "language": "python",
     "metadata": {},
     "outputs": [],
     "prompt_number": 1
    },
    {
     "cell_type": "code",
     "collapsed": false,
     "input": [
      "N = 100\n",
      "a = 0.0\n",
      "b = 2.0\n",
      "h = (b - a) / N\n",
      "s = f(a)/2. + f(b)/2.\n",
      "for k in range(1,N):\n",
      "    s +=f(a + k*h)\n",
      "print h*s"
     ],
     "language": "python",
     "metadata": {},
     "outputs": [
      {
       "output_type": "stream",
       "stream": "stdout",
       "text": [
        "4.401066656\n"
       ]
      }
     ],
     "prompt_number": 3
    },
    {
     "cell_type": "code",
     "collapsed": false,
     "input": [
      "N = 1000\n",
      "a = 0.0\n",
      "b = 2.0\n",
      "h = (b - a) / N\n",
      "s = f(a)/2. + f(b)/2.\n",
      "for k in range(1,N):\n",
      "    s +=f(a + k*h)\n",
      "print h*s"
     ],
     "language": "python",
     "metadata": {},
     "outputs": [
      {
       "output_type": "stream",
       "stream": "stdout",
       "text": [
        "4.40001066667\n"
       ]
      }
     ],
     "prompt_number": 4
    },
    {
     "cell_type": "markdown",
     "metadata": {},
     "source": [
      "Exercise 2, Simpson's Rule:\n",
      "-"
     ]
    },
    {
     "cell_type": "code",
     "collapsed": false,
     "input": [
      "N = 10\n",
      "a = 0.0\n",
      "b = 2.0\n",
      "h = (b - a) / N\n",
      "s = f(a) + f(b)\n",
      "for k in range(1,N/2+1):\n",
      "    s += 4.*f(a + (2.*k - 1.)*h)\n",
      "for k in range(1,N/2):\n",
      "    s += 2.*f(a + 2.*k*h)\n",
      "print h*s/3."
     ],
     "language": "python",
     "metadata": {},
     "outputs": [
      {
       "output_type": "stream",
       "stream": "stdout",
       "text": [
        "4.40042666667\n"
       ]
      }
     ],
     "prompt_number": 6
    },
    {
     "cell_type": "code",
     "collapsed": false,
     "input": [
      "N = 100\n",
      "a = 0.0\n",
      "b = 2.0\n",
      "h = (b - a) / N\n",
      "s = f(a) + f(b)\n",
      "for k in range(1,N/2+1):\n",
      "    s += 4.*f(a + (2.*k - 1.)*h)\n",
      "for k in range(1,N/2):\n",
      "    s += 2.*f(a + 2.*k*h)\n",
      "print h*s/3."
     ],
     "language": "python",
     "metadata": {},
     "outputs": [
      {
       "output_type": "stream",
       "stream": "stdout",
       "text": [
        "4.40000004267\n"
       ]
      }
     ],
     "prompt_number": 7
    },
    {
     "cell_type": "code",
     "collapsed": false,
     "input": [
      "N = 1000\n",
      "a = 0.0\n",
      "n = 2.0\n",
      "h = (b - a) / N\n",
      "s = f(a) + f(b)\n",
      "for k in range(1,N/2+1):\n",
      "    s += 4.*f(a + (2.*k - 1.)*h)\n",
      "for k in range(1,N/2):\n",
      "    s += 2.*f(a + 2.*k*h)\n",
      "print h*s/3."
     ],
     "language": "python",
     "metadata": {},
     "outputs": [
      {
       "output_type": "stream",
       "stream": "stdout",
       "text": [
        "4.4\n"
       ]
      }
     ],
     "prompt_number": 8
    },
    {
     "cell_type": "markdown",
     "metadata": {},
     "source": [
      "The results are super good even with 10 slices (about .00043 off), and with 1000, python doesn't even bother to print decimals past the first."
     ]
    },
    {
     "cell_type": "markdown",
     "metadata": {},
     "source": [
      "Exercise 3, Integrating over fixed samples of data\n",
      "-"
     ]
    },
    {
     "cell_type": "code",
     "collapsed": false,
     "input": [
      "import scipy.integrate as integ\n",
      "data = loadtxt(\"velocities.txt\",float)\n",
      "t = data[:,0]\n",
      "v = data[:,1]\n",
      "\n",
      "print \"Trapz: \"+str(trapz(v, t))\n",
      "print \"Simps: \"+str(integ.simps(v, t))"
     ],
     "language": "python",
     "metadata": {},
     "outputs": [
      {
       "output_type": "stream",
       "stream": "stdout",
       "text": [
        "Trapz: 8.218924\n",
        "Simps: 8.22269\n"
       ]
      }
     ],
     "prompt_number": 48
    },
    {
     "cell_type": "code",
     "collapsed": false,
     "input": [
      "posTrapz = zeros(shape(t),float)\n",
      "posSimps = zeros(shape(t),float)\n",
      "\n",
      "for i in range(1, len(v)):\n",
      "    posTrapz[i] = trapz(v[:i],t[:i])\n",
      "    posSimps[i] = integ.simps(v[:i],t[:i])\n",
      "\n",
      "plot(t, v, label = \"Velocities\")\n",
      "plot(t, posTrapz, label = \"Pos. via Trapz\")\n",
      "plot(t, posSimps,'r.', label= \"Pos. via Simps\")\n",
      "legend(loc = 'center')\n",
      "show()"
     ],
     "language": "python",
     "metadata": {},
     "outputs": [
      {
       "output_type": "display_data",
       "png": "[encoded data removed]"
      }
     ],
     "prompt_number": 49
    },
    {
     "cell_type": "code",
     "collapsed": false,
     "input": [],
     "language": "python",
     "metadata": {},
     "outputs": []
    }
   ],
   "metadata": {}
  }
 ]
}